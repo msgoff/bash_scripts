{
 "metadata": {
  "name": "",
  "signature": "sha256:72743f2772c871f58bcabfd8d886a5b153c59ea3ed1deddd354ae05e79b26572"
 },
 "nbformat": 3,
 "nbformat_minor": 0,
 "worksheets": [
  {
   "cells": [
    {
     "cell_type": "code",
     "collapsed": false,
     "input": [
      "data=\"\"\"\n",
      " S.  Set Data File Name                      B.   Browse Data                   M.  MD5 Checksum on Directory\n",
      "                                                                       \n",
      "SD. Set Working Directory                   GF.   Grep Forward                 W.  Wget Urls \n",
      "                                                                   \n",
      "FD. Flatten Directory by File Type          GB.   Grep Backward                 W.  W3m  Urls\n",
      "\n",
      " R. reset file back to original             SR.   Sed Replace                  FF.  Firefox Urls\n",
      "                              \n",
      "SF. save file                                                                   G.  list Public Github Repos                    \n",
      " \n",
      " E. Edit Menu                                                                  GC.  Git clone selected Repos\n",
      "\n",
      " I. Install Application Dependencies \n",
      "\n",
      "RD. Create Ram Disk\n",
      "\n",
      "\"\"\""
     ],
     "language": "python",
     "metadata": {},
     "outputs": [],
     "prompt_number": 36
    },
    {
     "cell_type": "code",
     "collapsed": false,
     "input": [
      "new_lines=[]\n",
      "for line in data.split('\\n'):\n",
      "    new_lines.append('echo \"'+line+'\"' )"
     ],
     "language": "python",
     "metadata": {},
     "outputs": [],
     "prompt_number": 37
    },
    {
     "cell_type": "code",
     "collapsed": false,
     "input": [
      "f=open('menu.sh','r')\n",
      "data=f.readlines()\n",
      "data[243:261]=new_lines\n",
      "f.close()"
     ],
     "language": "python",
     "metadata": {},
     "outputs": [],
     "prompt_number": 40
    },
    {
     "cell_type": "code",
     "collapsed": false,
     "input": [
      "g=open('new_menu','w')\n",
      "for line in data:\n",
      "    g.write(line)\n",
      "    g.write('\\n')\n",
      "g.close()"
     ],
     "language": "python",
     "metadata": {},
     "outputs": [],
     "prompt_number": 44
    },
    {
     "cell_type": "code",
     "collapsed": false,
     "input": [
      "new_lines"
     ],
     "language": "python",
     "metadata": {},
     "outputs": [
      {
       "metadata": {},
       "output_type": "pyout",
       "prompt_number": 42,
       "text": [
        "['echo \"\"',\n",
        " 'echo \" S.  Set Data File Name                      B.   Browse Data                   M.  MD5 Checksum on Directory\"',\n",
        " 'echo \"                                                                       \"',\n",
        " 'echo \"SD. Set Working Directory                   GF.   Grep Forward                 W.  Wget Urls \"',\n",
        " 'echo \"                                                                   \"',\n",
        " 'echo \"FD. Flatten Directory by File Type          GB.   Grep Backward                 W.  W3m  Urls\"',\n",
        " 'echo \"\"',\n",
        " 'echo \" R. reset file back to original             SR.   Sed Replace                  FF.  Firefox Urls\"',\n",
        " 'echo \"                              \"',\n",
        " 'echo \"SF. save file                                                                   G.  list Public Github Repos                    \"',\n",
        " 'echo \" \"',\n",
        " 'echo \" E. Edit Menu                                                                  GC.  Git clone selected Repos\"',\n",
        " 'echo \"\"',\n",
        " 'echo \" I. Install Application Dependencies \"',\n",
        " 'echo \"\"',\n",
        " 'echo \"RD. Create Ram Disk\"',\n",
        " 'echo \"\"',\n",
        " 'echo \"\"']"
       ]
      }
     ],
     "prompt_number": 42
    },
    {
     "cell_type": "code",
     "collapsed": false,
     "input": [
      "data[243:261]"
     ],
     "language": "python",
     "metadata": {},
     "outputs": [
      {
       "metadata": {},
       "output_type": "pyout",
       "prompt_number": 43,
       "text": [
        "['echo \"\"',\n",
        " 'echo \" S.  Set Data File Name                      B.   Browse Data                   M.  MD5 Checksum on Directory\"',\n",
        " 'echo \"                                                                       \"',\n",
        " 'echo \"SD. Set Working Directory                   GF.   Grep Forward                 W.  Wget Urls \"',\n",
        " 'echo \"                                                                   \"',\n",
        " 'echo \"FD. Flatten Directory by File Type          GB.   Grep Backward                 W.  W3m  Urls\"',\n",
        " 'echo \"\"',\n",
        " 'echo \" R. reset file back to original             SR.   Sed Replace                  FF.  Firefox Urls\"',\n",
        " 'echo \"                              \"',\n",
        " 'echo \"SF. save file                                                                   G.  list Public Github Repos                    \"',\n",
        " 'echo \" \"',\n",
        " 'echo \" E. Edit Menu                                                                  GC.  Git clone selected Repos\"',\n",
        " 'echo \"\"',\n",
        " 'echo \" I. Install Application Dependencies \"',\n",
        " 'echo \"\"',\n",
        " 'echo \"RD. Create Ram Disk\"',\n",
        " 'echo \"\"',\n",
        " 'echo \"\"']"
       ]
      }
     ],
     "prompt_number": 43
    },
    {
     "cell_type": "code",
     "collapsed": false,
     "input": [],
     "language": "python",
     "metadata": {},
     "outputs": []
    }
   ],
   "metadata": {}
  }
 ]
}